{
  "nbformat": 4,
  "nbformat_minor": 0,
  "metadata": {
    "colab": {
      "name": "Random Forest-Company.ipynb",
      "provenance": [],
      "authorship_tag": "ABX9TyOHTRNwNqP/xsbOTh+Cjo8k",
      "include_colab_link": true
    },
    "kernelspec": {
      "name": "python3",
      "display_name": "Python 3"
    },
    "language_info": {
      "name": "python"
    }
  },
  "cells": [
    {
      "cell_type": "markdown",
      "metadata": {
        "id": "view-in-github",
        "colab_type": "text"
      },
      "source": [
        "<a href=\"https://colab.research.google.com/github/Karan1928/Python-for-DS/blob/main/Random_Forest_Company.ipynb\" target=\"_parent\"><img src=\"https://colab.research.google.com/assets/colab-badge.svg\" alt=\"Open In Colab\"/></a>"
      ]
    },
    {
      "cell_type": "code",
      "metadata": {
        "id": "6dJ5j9i8PFbF"
      },
      "source": [
        "import pandas as pd\n",
        "import numpy as np\n",
        "import matplotlib.pyplot"
      ],
      "execution_count": 1,
      "outputs": []
    },
    {
      "cell_type": "code",
      "metadata": {
        "colab": {
          "base_uri": "https://localhost:8080/",
          "height": 417
        },
        "id": "CfuV9bLSVQCI",
        "outputId": "de04a605-da59-4182-9297-91839fc6ad2f"
      },
      "source": [
        "company=pd.read_csv('Company_Data.csv')\n",
        "company"
      ],
      "execution_count": 3,
      "outputs": [
        {
          "output_type": "execute_result",
          "data": {
            "text/html": [
              "<div>\n",
              "<style scoped>\n",
              "    .dataframe tbody tr th:only-of-type {\n",
              "        vertical-align: middle;\n",
              "    }\n",
              "\n",
              "    .dataframe tbody tr th {\n",
              "        vertical-align: top;\n",
              "    }\n",
              "\n",
              "    .dataframe thead th {\n",
              "        text-align: right;\n",
              "    }\n",
              "</style>\n",
              "<table border=\"1\" class=\"dataframe\">\n",
              "  <thead>\n",
              "    <tr style=\"text-align: right;\">\n",
              "      <th></th>\n",
              "      <th>Sales</th>\n",
              "      <th>CompPrice</th>\n",
              "      <th>Income</th>\n",
              "      <th>Advertising</th>\n",
              "      <th>Population</th>\n",
              "      <th>Price</th>\n",
              "      <th>ShelveLoc</th>\n",
              "      <th>Age</th>\n",
              "      <th>Education</th>\n",
              "      <th>Urban</th>\n",
              "      <th>US</th>\n",
              "    </tr>\n",
              "  </thead>\n",
              "  <tbody>\n",
              "    <tr>\n",
              "      <th>0</th>\n",
              "      <td>9.50</td>\n",
              "      <td>138</td>\n",
              "      <td>73</td>\n",
              "      <td>11</td>\n",
              "      <td>276</td>\n",
              "      <td>120</td>\n",
              "      <td>Bad</td>\n",
              "      <td>42</td>\n",
              "      <td>17</td>\n",
              "      <td>Yes</td>\n",
              "      <td>Yes</td>\n",
              "    </tr>\n",
              "    <tr>\n",
              "      <th>1</th>\n",
              "      <td>11.22</td>\n",
              "      <td>111</td>\n",
              "      <td>48</td>\n",
              "      <td>16</td>\n",
              "      <td>260</td>\n",
              "      <td>83</td>\n",
              "      <td>Good</td>\n",
              "      <td>65</td>\n",
              "      <td>10</td>\n",
              "      <td>Yes</td>\n",
              "      <td>Yes</td>\n",
              "    </tr>\n",
              "    <tr>\n",
              "      <th>2</th>\n",
              "      <td>10.06</td>\n",
              "      <td>113</td>\n",
              "      <td>35</td>\n",
              "      <td>10</td>\n",
              "      <td>269</td>\n",
              "      <td>80</td>\n",
              "      <td>Medium</td>\n",
              "      <td>59</td>\n",
              "      <td>12</td>\n",
              "      <td>Yes</td>\n",
              "      <td>Yes</td>\n",
              "    </tr>\n",
              "    <tr>\n",
              "      <th>3</th>\n",
              "      <td>7.40</td>\n",
              "      <td>117</td>\n",
              "      <td>100</td>\n",
              "      <td>4</td>\n",
              "      <td>466</td>\n",
              "      <td>97</td>\n",
              "      <td>Medium</td>\n",
              "      <td>55</td>\n",
              "      <td>14</td>\n",
              "      <td>Yes</td>\n",
              "      <td>Yes</td>\n",
              "    </tr>\n",
              "    <tr>\n",
              "      <th>4</th>\n",
              "      <td>4.15</td>\n",
              "      <td>141</td>\n",
              "      <td>64</td>\n",
              "      <td>3</td>\n",
              "      <td>340</td>\n",
              "      <td>128</td>\n",
              "      <td>Bad</td>\n",
              "      <td>38</td>\n",
              "      <td>13</td>\n",
              "      <td>Yes</td>\n",
              "      <td>No</td>\n",
              "    </tr>\n",
              "    <tr>\n",
              "      <th>...</th>\n",
              "      <td>...</td>\n",
              "      <td>...</td>\n",
              "      <td>...</td>\n",
              "      <td>...</td>\n",
              "      <td>...</td>\n",
              "      <td>...</td>\n",
              "      <td>...</td>\n",
              "      <td>...</td>\n",
              "      <td>...</td>\n",
              "      <td>...</td>\n",
              "      <td>...</td>\n",
              "    </tr>\n",
              "    <tr>\n",
              "      <th>395</th>\n",
              "      <td>12.57</td>\n",
              "      <td>138</td>\n",
              "      <td>108</td>\n",
              "      <td>17</td>\n",
              "      <td>203</td>\n",
              "      <td>128</td>\n",
              "      <td>Good</td>\n",
              "      <td>33</td>\n",
              "      <td>14</td>\n",
              "      <td>Yes</td>\n",
              "      <td>Yes</td>\n",
              "    </tr>\n",
              "    <tr>\n",
              "      <th>396</th>\n",
              "      <td>6.14</td>\n",
              "      <td>139</td>\n",
              "      <td>23</td>\n",
              "      <td>3</td>\n",
              "      <td>37</td>\n",
              "      <td>120</td>\n",
              "      <td>Medium</td>\n",
              "      <td>55</td>\n",
              "      <td>11</td>\n",
              "      <td>No</td>\n",
              "      <td>Yes</td>\n",
              "    </tr>\n",
              "    <tr>\n",
              "      <th>397</th>\n",
              "      <td>7.41</td>\n",
              "      <td>162</td>\n",
              "      <td>26</td>\n",
              "      <td>12</td>\n",
              "      <td>368</td>\n",
              "      <td>159</td>\n",
              "      <td>Medium</td>\n",
              "      <td>40</td>\n",
              "      <td>18</td>\n",
              "      <td>Yes</td>\n",
              "      <td>Yes</td>\n",
              "    </tr>\n",
              "    <tr>\n",
              "      <th>398</th>\n",
              "      <td>5.94</td>\n",
              "      <td>100</td>\n",
              "      <td>79</td>\n",
              "      <td>7</td>\n",
              "      <td>284</td>\n",
              "      <td>95</td>\n",
              "      <td>Bad</td>\n",
              "      <td>50</td>\n",
              "      <td>12</td>\n",
              "      <td>Yes</td>\n",
              "      <td>Yes</td>\n",
              "    </tr>\n",
              "    <tr>\n",
              "      <th>399</th>\n",
              "      <td>9.71</td>\n",
              "      <td>134</td>\n",
              "      <td>37</td>\n",
              "      <td>0</td>\n",
              "      <td>27</td>\n",
              "      <td>120</td>\n",
              "      <td>Good</td>\n",
              "      <td>49</td>\n",
              "      <td>16</td>\n",
              "      <td>Yes</td>\n",
              "      <td>Yes</td>\n",
              "    </tr>\n",
              "  </tbody>\n",
              "</table>\n",
              "<p>400 rows × 11 columns</p>\n",
              "</div>"
            ],
            "text/plain": [
              "     Sales  CompPrice  Income  Advertising  ...  Age  Education Urban   US\n",
              "0     9.50        138      73           11  ...   42         17   Yes  Yes\n",
              "1    11.22        111      48           16  ...   65         10   Yes  Yes\n",
              "2    10.06        113      35           10  ...   59         12   Yes  Yes\n",
              "3     7.40        117     100            4  ...   55         14   Yes  Yes\n",
              "4     4.15        141      64            3  ...   38         13   Yes   No\n",
              "..     ...        ...     ...          ...  ...  ...        ...   ...  ...\n",
              "395  12.57        138     108           17  ...   33         14   Yes  Yes\n",
              "396   6.14        139      23            3  ...   55         11    No  Yes\n",
              "397   7.41        162      26           12  ...   40         18   Yes  Yes\n",
              "398   5.94        100      79            7  ...   50         12   Yes  Yes\n",
              "399   9.71        134      37            0  ...   49         16   Yes  Yes\n",
              "\n",
              "[400 rows x 11 columns]"
            ]
          },
          "metadata": {},
          "execution_count": 3
        }
      ]
    },
    {
      "cell_type": "code",
      "metadata": {
        "colab": {
          "base_uri": "https://localhost:8080/"
        },
        "id": "65vmeGYqVcTp",
        "outputId": "cd35d1e4-204c-4fcf-8066-4f6bc8db0665"
      },
      "source": [
        "company['Sales'].unique()"
      ],
      "execution_count": 5,
      "outputs": [
        {
          "output_type": "execute_result",
          "data": {
            "text/plain": [
              "array([ 9.5 , 11.22, 10.06,  7.4 ,  4.15, 10.81,  6.63, 11.85,  6.54,\n",
              "        4.69,  9.01, 11.96,  3.98, 10.96, 11.17,  8.71,  7.58, 12.29,\n",
              "       13.91,  8.73,  6.41, 12.13,  5.08,  5.87, 10.14, 14.9 ,  8.33,\n",
              "        5.27,  2.99,  7.81, 13.55,  8.25,  6.2 ,  8.77,  2.67, 11.07,\n",
              "        8.89,  4.95,  6.59,  3.24,  2.07,  7.96, 10.43,  4.12,  4.16,\n",
              "        4.56, 12.44,  4.38,  3.91, 10.61,  1.42,  4.42,  7.91,  6.92,\n",
              "        4.9 ,  6.85, 11.91,  0.91,  5.42,  5.21,  8.32,  7.32,  1.82,\n",
              "        8.47,  7.8 ,  8.85, 13.39,  7.99,  9.46,  6.5 ,  5.52, 12.61,\n",
              "        8.55, 10.64,  7.7 ,  4.43,  9.14,  8.01,  7.52, 11.62,  2.23,\n",
              "        8.7 , 11.7 ,  6.56,  7.95,  5.33,  4.81,  4.53,  8.86,  8.39,\n",
              "        5.58,  9.48,  7.45, 12.49,  4.88,  4.11,  5.3 ,  5.07,  4.62,\n",
              "        5.55,  0.16,  3.47,  8.98,  9.  ,  6.62,  6.67,  6.01,  9.31,\n",
              "        8.54,  8.8 ,  7.57,  7.37,  6.87, 11.67,  6.88,  8.19,  8.87,\n",
              "        9.34, 11.27,  6.52,  4.96,  4.47,  8.41,  9.54,  7.62,  3.67,\n",
              "        6.44,  5.17, 10.27, 12.3 ,  6.03,  6.53,  7.44,  0.53,  9.09,\n",
              "        3.9 , 10.51,  7.56, 11.48, 10.49, 10.77,  7.64,  5.93,  6.89,\n",
              "        7.71,  7.49, 10.21, 12.53,  9.32,  4.67,  2.93,  3.63,  5.68,\n",
              "        8.22,  0.37,  6.71,  7.3 ,  9.03,  6.38,  0.  ,  7.54,  5.61,\n",
              "       10.48, 10.66,  7.78,  4.94,  7.43,  4.74,  5.32,  9.95, 10.07,\n",
              "        8.68,  8.07, 12.11,  8.79, 13.28,  7.23,  4.19,  4.1 ,  2.52,\n",
              "        3.62,  6.42,  5.56,  5.94,  2.05,  8.74,  4.97,  3.02,  4.36,\n",
              "        9.39, 12.04,  8.23,  4.83,  2.34,  5.73,  4.34,  9.7 , 10.62,\n",
              "       10.59,  6.43,  3.45,  6.68,  8.69,  5.4 , 11.19,  5.16,  8.09,\n",
              "       13.14,  8.65,  9.43,  5.53,  9.62,  7.36,  3.89, 10.31, 12.01,\n",
              "        4.68,  7.82,  8.78, 10.  ,  6.9 ,  5.04,  5.36,  5.05,  9.16,\n",
              "        3.72,  8.31,  5.64,  9.58,  4.2 ,  8.67,  5.12,  7.67,  5.71,\n",
              "        6.37,  7.77,  6.95,  5.31,  9.1 ,  5.83,  5.01, 11.99,  4.55,\n",
              "       12.98, 10.04,  7.22,  6.93,  3.42,  2.86,  7.74,  6.97,  7.6 ,\n",
              "        7.53,  6.98,  8.75,  9.49,  6.64, 11.82, 11.28, 12.66,  4.21,\n",
              "        8.21,  3.07, 10.98,  9.4 ,  8.57,  7.41,  5.28, 10.01, 11.93,\n",
              "        8.03,  4.78,  5.9 ,  9.24, 11.18,  9.53,  6.15,  6.8 ,  9.33,\n",
              "        7.72,  6.39, 15.63, 10.08,  5.86, 10.36,  2.66,  6.23,  3.15,\n",
              "        4.99, 10.1 ,  5.74,  7.63,  6.18,  8.61,  5.97, 11.54,  7.5 ,\n",
              "        7.38,  5.99,  8.43,  8.97, 12.57,  8.64, 10.44, 13.44,  9.45,\n",
              "        7.02,  3.58, 13.36,  4.17,  3.13,  5.25, 10.26, 10.5 ,  5.98,\n",
              "       14.37, 10.71,  7.68,  9.08,  9.44,  7.9 , 16.27,  6.81,  6.11,\n",
              "        5.81,  9.64,  9.35, 12.85,  8.14,  8.44,  5.47,  6.1 ,  5.57,\n",
              "        5.35,  6.14,  9.71])"
            ]
          },
          "metadata": {},
          "execution_count": 5
        }
      ]
    },
    {
      "cell_type": "code",
      "metadata": {
        "colab": {
          "base_uri": "https://localhost:8080/"
        },
        "id": "hFVNrEUtVcgw",
        "outputId": "f525de61-9918-4e53-d989-c2bd34ad22bc"
      },
      "source": [
        "company['Sales'].value_counts()"
      ],
      "execution_count": 9,
      "outputs": [
        {
          "output_type": "execute_result",
          "data": {
            "text/plain": [
              "7.80     4\n",
              "6.67     3\n",
              "8.77     3\n",
              "9.32     3\n",
              "5.87     3\n",
              "        ..\n",
              "8.89     1\n",
              "13.39    1\n",
              "9.14     1\n",
              "5.07     1\n",
              "9.50     1\n",
              "Name: Sales, Length: 336, dtype: int64"
            ]
          },
          "metadata": {},
          "execution_count": 9
        }
      ]
    },
    {
      "cell_type": "code",
      "metadata": {
        "colab": {
          "base_uri": "https://localhost:8080/"
        },
        "id": "T6Ua7FmdVckj",
        "outputId": "13be0511-498c-4296-96b0-ddf17ae21987"
      },
      "source": [
        "np.median(company['Sales'])"
      ],
      "execution_count": 10,
      "outputs": [
        {
          "output_type": "execute_result",
          "data": {
            "text/plain": [
              "7.49"
            ]
          },
          "metadata": {},
          "execution_count": 10
        }
      ]
    },
    {
      "cell_type": "code",
      "metadata": {
        "id": "iNQZB0HHVcoA"
      },
      "source": [
        "company[\"sales\"]=\"<=7.49\"\n"
      ],
      "execution_count": 12,
      "outputs": []
    },
    {
      "cell_type": "code",
      "metadata": {
        "id": "5iqBAC87VcrT"
      },
      "source": [
        "company[\"sales\"]=\"<=7.49\"\n",
        "company.loc[company['Sales']>=7.49,'sales']=\">=7.49\""
      ],
      "execution_count": 17,
      "outputs": []
    },
    {
      "cell_type": "code",
      "metadata": {
        "id": "kfiw_g08Vcu7"
      },
      "source": [
        "company.drop([\"Sales\"],axis=1,inplace=True)"
      ],
      "execution_count": 18,
      "outputs": []
    },
    {
      "cell_type": "code",
      "metadata": {
        "id": "mPFn7-NIVcyI"
      },
      "source": [
        "from sklearn import preprocessing\n",
        "le = preprocessing.LabelEncoder()"
      ],
      "execution_count": 19,
      "outputs": []
    },
    {
      "cell_type": "code",
      "metadata": {
        "id": "vPLxpIbRVc1b"
      },
      "source": [
        "for column_names in company.columns:\n",
        "    if company[column_names].dtype == object:\n",
        "        company[column_names]= le.fit_transform(company[column_names])\n",
        "    else:\n",
        "        pass"
      ],
      "execution_count": 20,
      "outputs": []
    },
    {
      "cell_type": "code",
      "metadata": {
        "id": "_m1LiagSVc4a"
      },
      "source": [
        "#Splitting the data into input and output\n",
        "featues = company.iloc[:,0:10]\n",
        "labels = company.iloc[:,10]"
      ],
      "execution_count": 21,
      "outputs": []
    },
    {
      "cell_type": "code",
      "metadata": {
        "id": "DQNoo8KvVc7b"
      },
      "source": [
        "#Splitting the data into train and test by using stratify sampling\n",
        "from sklearn.model_selection import train_test_split"
      ],
      "execution_count": 22,
      "outputs": []
    },
    {
      "cell_type": "code",
      "metadata": {
        "id": "yccsHKTOVc-Z"
      },
      "source": [
        "x_train,x_test,y_train,y_test = train_test_split(featues,labels,test_size = 0.3,stratify = labels) "
      ],
      "execution_count": 23,
      "outputs": []
    },
    {
      "cell_type": "code",
      "metadata": {
        "colab": {
          "base_uri": "https://localhost:8080/"
        },
        "id": "nXdPEGloVdBZ",
        "outputId": "c7918afa-31a2-4d9d-bb36-7fb24c8bd7ae"
      },
      "source": [
        "#Looking into the class variable split\n",
        "y_train.value_counts()"
      ],
      "execution_count": 24,
      "outputs": [
        {
          "output_type": "execute_result",
          "data": {
            "text/plain": [
              "1    141\n",
              "0    139\n",
              "Name: sales, dtype: int64"
            ]
          },
          "metadata": {},
          "execution_count": 24
        }
      ]
    },
    {
      "cell_type": "code",
      "metadata": {
        "colab": {
          "base_uri": "https://localhost:8080/"
        },
        "id": "ZXTgFKrWXpHb",
        "outputId": "c0e33219-857a-406c-bc26-013b9f5e53ae"
      },
      "source": [
        "y_test.value_counts()"
      ],
      "execution_count": 25,
      "outputs": [
        {
          "output_type": "execute_result",
          "data": {
            "text/plain": [
              "1    60\n",
              "0    60\n",
              "Name: sales, dtype: int64"
            ]
          },
          "metadata": {},
          "execution_count": 25
        }
      ]
    },
    {
      "cell_type": "code",
      "metadata": {
        "id": "B7Xbh8cEXpLR"
      },
      "source": [
        "#Building the model\n",
        "from sklearn.ensemble import RandomForestClassifier as RF"
      ],
      "execution_count": 26,
      "outputs": []
    },
    {
      "cell_type": "code",
      "metadata": {
        "colab": {
          "base_uri": "https://localhost:8080/"
        },
        "id": "CNL7V1KcXpOz",
        "outputId": "8be3ec73-b163-4385-d5e2-0c5f1ab692d8"
      },
      "source": [
        "model =RF(n_jobs=4,n_estimators = 150, oob_score =True,criterion ='entropy') \n",
        "model.fit(x_train,y_train)\n",
        "model.oob_score_"
      ],
      "execution_count": 27,
      "outputs": [
        {
          "output_type": "execute_result",
          "data": {
            "text/plain": [
              "0.7821428571428571"
            ]
          },
          "metadata": {},
          "execution_count": 27
        }
      ]
    },
    {
      "cell_type": "code",
      "metadata": {
        "id": "GRU44K74XpfC"
      },
      "source": [
        "#prediction on training data\n",
        "pred_train = model.predict(x_train)"
      ],
      "execution_count": 29,
      "outputs": []
    },
    {
      "cell_type": "code",
      "metadata": {
        "colab": {
          "base_uri": "https://localhost:8080/"
        },
        "id": "t8kuZ23-XplR",
        "outputId": "43940bb1-1741-4f54-dbdd-9245ede74c62"
      },
      "source": [
        "from sklearn.metrics import accuracy_score\n",
        "accuracy_train = accuracy_score(y_train,pred_train)*100\n",
        "print(accuracy_train)\n"
      ],
      "execution_count": 38,
      "outputs": [
        {
          "output_type": "stream",
          "name": "stdout",
          "text": [
            "100.0\n"
          ]
        }
      ]
    },
    {
      "cell_type": "code",
      "metadata": {
        "id": "MaseEAWWXprj"
      },
      "source": [
        "#Confusion matrix\n",
        "from sklearn.metrics import confusion_matrix\n",
        "con_train = confusion_matrix(y_train,pred_train)    "
      ],
      "execution_count": 47,
      "outputs": []
    },
    {
      "cell_type": "code",
      "metadata": {
        "id": "RbuS5s8RXpwL"
      },
      "source": [
        "#prediction on test data\n",
        "pred_test = model.predict(x_test)"
      ],
      "execution_count": 35,
      "outputs": []
    },
    {
      "cell_type": "code",
      "metadata": {
        "colab": {
          "base_uri": "https://localhost:8080/"
        },
        "id": "mW4_pd6nZ7ig",
        "outputId": "34ec2491-64ff-49c4-e3d6-984ba04101e9"
      },
      "source": [
        "#Accuracy on test data\n",
        "accuracy_test = accuracy_score(y_test,pred_test)*100\n",
        "print(accuracy_test)"
      ],
      "execution_count": 39,
      "outputs": [
        {
          "output_type": "stream",
          "name": "stdout",
          "text": [
            "77.5\n"
          ]
        }
      ]
    },
    {
      "cell_type": "code",
      "metadata": {
        "colab": {
          "base_uri": "https://localhost:8080/"
        },
        "id": "IrdLxd85Z7k7",
        "outputId": "78dcdea1-2c9c-49c9-d4c6-68ea79ae150e"
      },
      "source": [
        "np.mean(y_test==pred_test)*100"
      ],
      "execution_count": 41,
      "outputs": [
        {
          "output_type": "execute_result",
          "data": {
            "text/plain": [
              "77.5"
            ]
          },
          "metadata": {},
          "execution_count": 41
        }
      ]
    },
    {
      "cell_type": "code",
      "metadata": {
        "id": "XAsvphW7Z7q8"
      },
      "source": [
        "#Confusion matrix\n",
        "from sklearn.metrics import confusion_matrix\n",
        "con_test = confusion_matrix(y_train,pred_train)    "
      ],
      "execution_count": 49,
      "outputs": []
    },
    {
      "cell_type": "code",
      "metadata": {
        "id": "WdYJtXvZbKsI"
      },
      "source": [
        "#Visualizing the one decision tree in random forest\n",
        "from sklearn.tree import export_graphviz \n",
        "from sklearn.externals.six import StringIO\n",
        "import pydotplus"
      ],
      "execution_count": 51,
      "outputs": []
    },
    {
      "cell_type": "code",
      "metadata": {
        "id": "GMYA8bYqbU0Y"
      },
      "source": [
        "colnames = list(company.columns)\n",
        "predictors = colnames[0:10]\n",
        "target = colnames[10]\n",
        "tree1 = model.estimators_[20]\n",
        "dot_data = StringIO()\n",
        "export_graphviz(tree1,out_file = dot_data, feature_names =predictors, class_names = target, filled =True,rounded=True,impurity =False,proportion=False,precision=2)"
      ],
      "execution_count": 52,
      "outputs": []
    },
    {
      "cell_type": "code",
      "metadata": {
        "colab": {
          "base_uri": "https://localhost:8080/"
        },
        "id": "eTon4i_GbVAH",
        "outputId": "88a9a117-4560-4be3-9349-2f340d516e22"
      },
      "source": [
        "graph = pydotplus.graph_from_dot_data(dot_data.getvalue())\n",
        "print(dot_data.getvalue())"
      ],
      "execution_count": 56,
      "outputs": [
        {
          "output_type": "stream",
          "name": "stdout",
          "text": [
            "digraph Tree {\n",
            "node [shape=box, style=\"filled, rounded\", color=\"black\", fontname=helvetica] ;\n",
            "edge [fontname=helvetica] ;\n",
            "0 [label=\"Advertising <= 7.5\\nsamples = 176\\nvalue = [153, 127]\\nclass = s\", fillcolor=\"#fbeadd\"] ;\n",
            "1 [label=\"Population <= 276.5\\nsamples = 97\\nvalue = [107, 53]\\nclass = s\", fillcolor=\"#f2bf9b\"] ;\n",
            "0 -> 1 [labeldistance=2.5, labelangle=45, headlabel=\"True\"] ;\n",
            "2 [label=\"Income <= 69.5\\nsamples = 56\\nvalue = [46, 43]\\nclass = s\", fillcolor=\"#fdf7f2\"] ;\n",
            "1 -> 2 ;\n",
            "3 [label=\"Advertising <= 5.5\\nsamples = 28\\nvalue = [34, 12]\\nclass = s\", fillcolor=\"#eead7f\"] ;\n",
            "2 -> 3 ;\n",
            "4 [label=\"Population <= 198.0\\nsamples = 26\\nvalue = [34, 9]\\nclass = s\", fillcolor=\"#eca26d\"] ;\n",
            "3 -> 4 ;\n",
            "5 [label=\"Price <= 95.0\\nsamples = 17\\nvalue = [26, 2]\\nclass = s\", fillcolor=\"#e78b48\"] ;\n",
            "4 -> 5 ;\n",
            "6 [label=\"samples = 2\\nvalue = [0, 2]\\nclass = a\", fillcolor=\"#399de5\"] ;\n",
            "5 -> 6 ;\n",
            "7 [label=\"samples = 15\\nvalue = [26, 0]\\nclass = s\", fillcolor=\"#e58139\"] ;\n",
            "5 -> 7 ;\n",
            "8 [label=\"Price <= 128.5\\nsamples = 9\\nvalue = [8, 7]\\nclass = s\", fillcolor=\"#fcefe6\"] ;\n",
            "4 -> 8 ;\n",
            "9 [label=\"Age <= 75.0\\nsamples = 6\\nvalue = [3, 7]\\nclass = a\", fillcolor=\"#8ec7f0\"] ;\n",
            "8 -> 9 ;\n",
            "10 [label=\"CompPrice <= 111.0\\nsamples = 5\\nvalue = [1, 7]\\nclass = a\", fillcolor=\"#55abe9\"] ;\n",
            "9 -> 10 ;\n",
            "11 [label=\"samples = 1\\nvalue = [1, 0]\\nclass = s\", fillcolor=\"#e58139\"] ;\n",
            "10 -> 11 ;\n",
            "12 [label=\"samples = 4\\nvalue = [0, 7]\\nclass = a\", fillcolor=\"#399de5\"] ;\n",
            "10 -> 12 ;\n",
            "13 [label=\"samples = 1\\nvalue = [2, 0]\\nclass = s\", fillcolor=\"#e58139\"] ;\n",
            "9 -> 13 ;\n",
            "14 [label=\"samples = 3\\nvalue = [5, 0]\\nclass = s\", fillcolor=\"#e58139\"] ;\n",
            "8 -> 14 ;\n",
            "15 [label=\"samples = 2\\nvalue = [0, 3]\\nclass = a\", fillcolor=\"#399de5\"] ;\n",
            "3 -> 15 ;\n",
            "16 [label=\"Price <= 145.0\\nsamples = 28\\nvalue = [12, 31]\\nclass = a\", fillcolor=\"#86c3ef\"] ;\n",
            "2 -> 16 ;\n",
            "17 [label=\"CompPrice <= 117.5\\nsamples = 24\\nvalue = [6, 30]\\nclass = a\", fillcolor=\"#61b1ea\"] ;\n",
            "16 -> 17 ;\n",
            "18 [label=\"samples = 7\\nvalue = [0, 14]\\nclass = a\", fillcolor=\"#399de5\"] ;\n",
            "17 -> 18 ;\n",
            "19 [label=\"Population <= 137.5\\nsamples = 17\\nvalue = [6, 16]\\nclass = a\", fillcolor=\"#83c2ef\"] ;\n",
            "17 -> 19 ;\n",
            "20 [label=\"ShelveLoc <= 1.5\\nsamples = 8\\nvalue = [5, 3]\\nclass = s\", fillcolor=\"#f5cdb0\"] ;\n",
            "19 -> 20 ;\n",
            "21 [label=\"samples = 3\\nvalue = [0, 3]\\nclass = a\", fillcolor=\"#399de5\"] ;\n",
            "20 -> 21 ;\n",
            "22 [label=\"samples = 5\\nvalue = [5, 0]\\nclass = s\", fillcolor=\"#e58139\"] ;\n",
            "20 -> 22 ;\n",
            "23 [label=\"Urban <= 0.5\\nsamples = 9\\nvalue = [1, 13]\\nclass = a\", fillcolor=\"#48a5e7\"] ;\n",
            "19 -> 23 ;\n",
            "24 [label=\"Population <= 195.5\\nsamples = 3\\nvalue = [1, 2]\\nclass = a\", fillcolor=\"#9ccef2\"] ;\n",
            "23 -> 24 ;\n",
            "25 [label=\"samples = 2\\nvalue = [0, 2]\\nclass = a\", fillcolor=\"#399de5\"] ;\n",
            "24 -> 25 ;\n",
            "26 [label=\"samples = 1\\nvalue = [1, 0]\\nclass = s\", fillcolor=\"#e58139\"] ;\n",
            "24 -> 26 ;\n",
            "27 [label=\"samples = 6\\nvalue = [0, 11]\\nclass = a\", fillcolor=\"#399de5\"] ;\n",
            "23 -> 27 ;\n",
            "28 [label=\"Age <= 50.5\\nsamples = 4\\nvalue = [6, 1]\\nclass = s\", fillcolor=\"#e9965a\"] ;\n",
            "16 -> 28 ;\n",
            "29 [label=\"samples = 3\\nvalue = [6, 0]\\nclass = s\", fillcolor=\"#e58139\"] ;\n",
            "28 -> 29 ;\n",
            "30 [label=\"samples = 1\\nvalue = [0, 1]\\nclass = a\", fillcolor=\"#399de5\"] ;\n",
            "28 -> 30 ;\n",
            "31 [label=\"Age <= 50.5\\nsamples = 41\\nvalue = [61, 10]\\nclass = s\", fillcolor=\"#e99659\"] ;\n",
            "1 -> 31 ;\n",
            "32 [label=\"Education <= 12.5\\nsamples = 16\\nvalue = [19, 9]\\nclass = s\", fillcolor=\"#f1bd97\"] ;\n",
            "31 -> 32 ;\n",
            "33 [label=\"samples = 5\\nvalue = [7, 0]\\nclass = s\", fillcolor=\"#e58139\"] ;\n",
            "32 -> 33 ;\n",
            "34 [label=\"Price <= 129.5\\nsamples = 11\\nvalue = [12, 9]\\nclass = s\", fillcolor=\"#f8e0ce\"] ;\n",
            "32 -> 34 ;\n",
            "35 [label=\"Advertising <= 2.5\\nsamples = 8\\nvalue = [4, 9]\\nclass = a\", fillcolor=\"#91c9f1\"] ;\n",
            "34 -> 35 ;\n",
            "36 [label=\"Income <= 57.0\\nsamples = 5\\nvalue = [4, 4]\\nclass = s\", fillcolor=\"#ffffff\"] ;\n",
            "35 -> 36 ;\n",
            "37 [label=\"samples = 3\\nvalue = [4, 0]\\nclass = s\", fillcolor=\"#e58139\"] ;\n",
            "36 -> 37 ;\n",
            "38 [label=\"samples = 2\\nvalue = [0, 4]\\nclass = a\", fillcolor=\"#399de5\"] ;\n",
            "36 -> 38 ;\n",
            "39 [label=\"samples = 3\\nvalue = [0, 5]\\nclass = a\", fillcolor=\"#399de5\"] ;\n",
            "35 -> 39 ;\n",
            "40 [label=\"samples = 3\\nvalue = [8, 0]\\nclass = s\", fillcolor=\"#e58139\"] ;\n",
            "34 -> 40 ;\n",
            "41 [label=\"Urban <= 0.5\\nsamples = 25\\nvalue = [42, 1]\\nclass = s\", fillcolor=\"#e6843e\"] ;\n",
            "31 -> 41 ;\n",
            "42 [label=\"Price <= 100.0\\nsamples = 5\\nvalue = [10, 1]\\nclass = s\", fillcolor=\"#e88e4d\"] ;\n",
            "41 -> 42 ;\n",
            "43 [label=\"samples = 1\\nvalue = [0, 1]\\nclass = a\", fillcolor=\"#399de5\"] ;\n",
            "42 -> 43 ;\n",
            "44 [label=\"samples = 4\\nvalue = [10, 0]\\nclass = s\", fillcolor=\"#e58139\"] ;\n",
            "42 -> 44 ;\n",
            "45 [label=\"samples = 20\\nvalue = [32, 0]\\nclass = s\", fillcolor=\"#e58139\"] ;\n",
            "41 -> 45 ;\n",
            "46 [label=\"Education <= 10.5\\nsamples = 79\\nvalue = [46, 74]\\nclass = a\", fillcolor=\"#b4daf5\"] ;\n",
            "0 -> 46 [labeldistance=2.5, labelangle=-45, headlabel=\"False\"] ;\n",
            "47 [label=\"Income <= 37.0\\nsamples = 11\\nvalue = [1, 13]\\nclass = a\", fillcolor=\"#48a5e7\"] ;\n",
            "46 -> 47 ;\n",
            "48 [label=\"Urban <= 0.5\\nsamples = 5\\nvalue = [1, 5]\\nclass = a\", fillcolor=\"#61b1ea\"] ;\n",
            "47 -> 48 ;\n",
            "49 [label=\"samples = 1\\nvalue = [1, 0]\\nclass = s\", fillcolor=\"#e58139\"] ;\n",
            "48 -> 49 ;\n",
            "50 [label=\"samples = 4\\nvalue = [0, 5]\\nclass = a\", fillcolor=\"#399de5\"] ;\n",
            "48 -> 50 ;\n",
            "51 [label=\"samples = 6\\nvalue = [0, 8]\\nclass = a\", fillcolor=\"#399de5\"] ;\n",
            "47 -> 51 ;\n",
            "52 [label=\"CompPrice <= 122.5\\nsamples = 68\\nvalue = [45, 61]\\nclass = a\", fillcolor=\"#cbe5f8\"] ;\n",
            "46 -> 52 ;\n",
            "53 [label=\"Education <= 17.5\\nsamples = 30\\nvalue = [10, 39]\\nclass = a\", fillcolor=\"#6cb6ec\"] ;\n",
            "52 -> 53 ;\n",
            "54 [label=\"Age <= 75.5\\nsamples = 26\\nvalue = [10, 30]\\nclass = a\", fillcolor=\"#7bbeee\"] ;\n",
            "53 -> 54 ;\n",
            "55 [label=\"Income <= 76.0\\nsamples = 24\\nvalue = [7, 30]\\nclass = a\", fillcolor=\"#67b4eb\"] ;\n",
            "54 -> 55 ;\n",
            "56 [label=\"Income <= 73.5\\nsamples = 11\\nvalue = [7, 8]\\nclass = a\", fillcolor=\"#e6f3fc\"] ;\n",
            "55 -> 56 ;\n",
            "57 [label=\"ShelveLoc <= 1.5\\nsamples = 10\\nvalue = [5, 8]\\nclass = a\", fillcolor=\"#b5daf5\"] ;\n",
            "56 -> 57 ;\n",
            "58 [label=\"samples = 3\\nvalue = [0, 4]\\nclass = a\", fillcolor=\"#399de5\"] ;\n",
            "57 -> 58 ;\n",
            "59 [label=\"Population <= 292.0\\nsamples = 7\\nvalue = [5, 4]\\nclass = s\", fillcolor=\"#fae6d7\"] ;\n",
            "57 -> 59 ;\n",
            "60 [label=\"CompPrice <= 111.0\\nsamples = 5\\nvalue = [1, 4]\\nclass = a\", fillcolor=\"#6ab6ec\"] ;\n",
            "59 -> 60 ;\n",
            "61 [label=\"CompPrice <= 104.5\\nsamples = 2\\nvalue = [1, 1]\\nclass = s\", fillcolor=\"#ffffff\"] ;\n",
            "60 -> 61 ;\n",
            "62 [label=\"samples = 1\\nvalue = [0, 1]\\nclass = a\", fillcolor=\"#399de5\"] ;\n",
            "61 -> 62 ;\n",
            "63 [label=\"samples = 1\\nvalue = [1, 0]\\nclass = s\", fillcolor=\"#e58139\"] ;\n",
            "61 -> 63 ;\n",
            "64 [label=\"samples = 3\\nvalue = [0, 3]\\nclass = a\", fillcolor=\"#399de5\"] ;\n",
            "60 -> 64 ;\n",
            "65 [label=\"samples = 2\\nvalue = [4, 0]\\nclass = s\", fillcolor=\"#e58139\"] ;\n",
            "59 -> 65 ;\n",
            "66 [label=\"samples = 1\\nvalue = [2, 0]\\nclass = s\", fillcolor=\"#e58139\"] ;\n",
            "56 -> 66 ;\n",
            "67 [label=\"samples = 13\\nvalue = [0, 22]\\nclass = a\", fillcolor=\"#399de5\"] ;\n",
            "55 -> 67 ;\n",
            "68 [label=\"samples = 2\\nvalue = [3, 0]\\nclass = s\", fillcolor=\"#e58139\"] ;\n",
            "54 -> 68 ;\n",
            "69 [label=\"samples = 4\\nvalue = [0, 9]\\nclass = a\", fillcolor=\"#399de5\"] ;\n",
            "53 -> 69 ;\n",
            "70 [label=\"Price <= 126.0\\nsamples = 38\\nvalue = [35, 22]\\nclass = s\", fillcolor=\"#f5d0b5\"] ;\n",
            "52 -> 70 ;\n",
            "71 [label=\"Income <= 36.5\\nsamples = 16\\nvalue = [5, 17]\\nclass = a\", fillcolor=\"#73baed\"] ;\n",
            "70 -> 71 ;\n",
            "72 [label=\"samples = 1\\nvalue = [2, 0]\\nclass = s\", fillcolor=\"#e58139\"] ;\n",
            "71 -> 72 ;\n",
            "73 [label=\"Advertising <= 10.5\\nsamples = 15\\nvalue = [3, 17]\\nclass = a\", fillcolor=\"#5caeea\"] ;\n",
            "71 -> 73 ;\n",
            "74 [label=\"samples = 2\\nvalue = [3, 0]\\nclass = s\", fillcolor=\"#e58139\"] ;\n",
            "73 -> 74 ;\n",
            "75 [label=\"samples = 13\\nvalue = [0, 17]\\nclass = a\", fillcolor=\"#399de5\"] ;\n",
            "73 -> 75 ;\n",
            "76 [label=\"Advertising <= 10.5\\nsamples = 22\\nvalue = [30, 5]\\nclass = s\", fillcolor=\"#e9965a\"] ;\n",
            "70 -> 76 ;\n",
            "77 [label=\"CompPrice <= 139.0\\nsamples = 7\\nvalue = [5, 4]\\nclass = s\", fillcolor=\"#fae6d7\"] ;\n",
            "76 -> 77 ;\n",
            "78 [label=\"samples = 4\\nvalue = [5, 0]\\nclass = s\", fillcolor=\"#e58139\"] ;\n",
            "77 -> 78 ;\n",
            "79 [label=\"samples = 3\\nvalue = [0, 4]\\nclass = a\", fillcolor=\"#399de5\"] ;\n",
            "77 -> 79 ;\n",
            "80 [label=\"CompPrice <= 142.0\\nsamples = 15\\nvalue = [25, 1]\\nclass = s\", fillcolor=\"#e68641\"] ;\n",
            "76 -> 80 ;\n",
            "81 [label=\"samples = 12\\nvalue = [19, 0]\\nclass = s\", fillcolor=\"#e58139\"] ;\n",
            "80 -> 81 ;\n",
            "82 [label=\"Population <= 408.0\\nsamples = 3\\nvalue = [6, 1]\\nclass = s\", fillcolor=\"#e9965a\"] ;\n",
            "80 -> 82 ;\n",
            "83 [label=\"samples = 2\\nvalue = [6, 0]\\nclass = s\", fillcolor=\"#e58139\"] ;\n",
            "82 -> 83 ;\n",
            "84 [label=\"samples = 1\\nvalue = [0, 1]\\nclass = a\", fillcolor=\"#399de5\"] ;\n",
            "82 -> 84 ;\n",
            "}\n"
          ]
        }
      ]
    },
    {
      "cell_type": "code",
      "metadata": {
        "colab": {
          "base_uri": "https://localhost:8080/"
        },
        "id": "f6Dkq14lbyHL",
        "outputId": "5b6dfa58-070e-47eb-b798-56748b8577f2"
      },
      "source": [
        "#Creating pdf file\n",
        "graph.write_pdf('companyrf.pdf')\n"
      ],
      "execution_count": 62,
      "outputs": [
        {
          "output_type": "execute_result",
          "data": {
            "text/plain": [
              "True"
            ]
          },
          "metadata": {},
          "execution_count": 62
        }
      ]
    },
    {
      "cell_type": "code",
      "metadata": {
        "colab": {
          "base_uri": "https://localhost:8080/"
        },
        "id": "3L1Vu67VcHNT",
        "outputId": "99c2327c-5eb0-4404-ab72-e627767e1728"
      },
      "source": [
        "#Creating png file\n",
        "graph.write_png('companyrf.png')"
      ],
      "execution_count": 65,
      "outputs": [
        {
          "output_type": "execute_result",
          "data": {
            "text/plain": [
              "True"
            ]
          },
          "metadata": {},
          "execution_count": 65
        }
      ]
    }
  ]
}