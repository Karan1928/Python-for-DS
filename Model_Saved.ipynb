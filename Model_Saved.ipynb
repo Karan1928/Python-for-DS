{
  "nbformat": 4,
  "nbformat_minor": 0,
  "metadata": {
    "colab": {
      "name": "Model_Saved.ipynb",
      "provenance": [],
      "include_colab_link": true
    },
    "kernelspec": {
      "name": "python3",
      "display_name": "Python 3"
    },
    "language_info": {
      "name": "python"
    }
  },
  "cells": [
    {
      "cell_type": "markdown",
      "metadata": {
        "id": "view-in-github",
        "colab_type": "text"
      },
      "source": [
        "<a href=\"https://colab.research.google.com/github/Karan1928/Python-for-DS/blob/main/Model_Saved.ipynb\" target=\"_parent\"><img src=\"https://colab.research.google.com/assets/colab-badge.svg\" alt=\"Open In Colab\"/></a>"
      ]
    },
    {
      "cell_type": "code",
      "metadata": {
        "id": "Ci56qGdr4SYk",
        "colab": {
          "base_uri": "https://localhost:8080/"
        },
        "outputId": "381abe52-13e1-4299-8242-bdedda44356d"
      },
      "source": [
        "#import the libraries\n",
        "import pandas as pd\n",
        "from sklearn.linear_model import LogisticRegression\n",
        "from pickle import dump\n",
        "from pickle import load\n",
        "\n",
        "\n",
        "claimants = pd.read_csv(\"/content/claimants.csv\")\n",
        "claimants.drop([\"CASENUM\"],inplace=True,axis = 1)\n",
        "claimants = claimants.dropna()\n",
        "\n",
        "X = claimants.iloc[:,[1,2,3,4,5]]\n",
        "Y = claimants.iloc[:,0]\n",
        "model = LogisticRegression(max_iter=300)\n",
        "model.fit(X,Y)"
      ],
      "execution_count": 1,
      "outputs": [
        {
          "output_type": "execute_result",
          "data": {
            "text/plain": [
              "LogisticRegression(C=1.0, class_weight=None, dual=False, fit_intercept=True,\n",
              "                   intercept_scaling=1, l1_ratio=None, max_iter=300,\n",
              "                   multi_class='auto', n_jobs=None, penalty='l2',\n",
              "                   random_state=None, solver='lbfgs', tol=0.0001, verbose=0,\n",
              "                   warm_start=False)"
            ]
          },
          "metadata": {
            "tags": []
          },
          "execution_count": 1
        }
      ]
    },
    {
      "cell_type": "code",
      "metadata": {
        "id": "ddKdJHHF4tqy"
      },
      "source": [
        "# save the model to disk\n",
        "dump(model, open('/content/Logistic_Model.sav', 'wb'))"
      ],
      "execution_count": 2,
      "outputs": []
    },
    {
      "cell_type": "code",
      "metadata": {
        "id": "MgLWckYz4phx",
        "colab": {
          "base_uri": "https://localhost:8080/"
        },
        "outputId": "280f7864-05fe-45e1-e207-4e9128143d68"
      },
      "source": [
        "# load the model from disk\n",
        "loaded_model = load(open('/content/Logistic_Model.sav', 'rb'))\n",
        "result = loaded_model.score(X, Y)\n",
        "print(result)"
      ],
      "execution_count": 3,
      "outputs": [
        {
          "output_type": "stream",
          "text": [
            "0.708029197080292\n"
          ],
          "name": "stdout"
        }
      ]
    },
    {
      "cell_type": "code",
      "metadata": {
        "id": "D3xhErwl5Fgu"
      },
      "source": [
        ""
      ],
      "execution_count": null,
      "outputs": []
    }
  ]
}